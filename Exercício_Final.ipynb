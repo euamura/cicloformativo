{
  "nbformat": 4,
  "nbformat_minor": 0,
  "metadata": {
    "colab": {
      "provenance": [],
      "include_colab_link": true
    },
    "kernelspec": {
      "name": "python3",
      "display_name": "Python 3"
    },
    "language_info": {
      "name": "python"
    }
  },
  "cells": [
    {
      "cell_type": "markdown",
      "metadata": {
        "id": "view-in-github",
        "colab_type": "text"
      },
      "source": [
        "<a href=\"https://colab.research.google.com/github/euamura/cicloformativo/blob/main/Exerc%C3%ADcio_Final.ipynb\" target=\"_parent\"><img src=\"https://colab.research.google.com/assets/colab-badge.svg\" alt=\"Open In Colab\"/></a>"
      ]
    },
    {
      "cell_type": "markdown",
      "source": [
        "# Contagem de Medalhas\n",
        "\n",
        "Crie um programa que receba o número de medalhas de ouro, prata e bronze de um país nas Olimpíadas e calcule o total de medalhas.\n",
        "Quando escrever 'sair', o programa deverá encerrar e mostrar na tela o ranking de medalhas no formato:"
      ],
      "metadata": {
        "id": "RQN1e5FZY6SZ"
      }
    },
    {
      "cell_type": "code",
      "source": [
        "#Ranking de medalhas:\n",
        "#Brasil: 7 medalhas\n",
        "#França: 6 medalhas\n",
        "#Argentina: 3 medalhas"
      ],
      "metadata": {
        "id": "gCq_KLHzZSzb"
      },
      "execution_count": null,
      "outputs": []
    },
    {
      "cell_type": "code",
      "execution_count": null,
      "metadata": {
        "id": "AJJhjxiPTd5s"
      },
      "outputs": [],
      "source": [
        "# Resposta aqui\n",
        "\n",
        "## função\n",
        "def contagem_medalhas():\n",
        "  ranking = []\n",
        "\n",
        "  while True:\n",
        "    pais = input(\"Digite o nome do país ou  'sair' para encerrar: \")\n",
        "    if pais == \"sair\":\n",
        "      ranking_ordenado = sorted(ranking, key=lambda x: x['total'], reverse=True)\n",
        "      print(\"Ranking de medalhas\")\n",
        "      for medalhas in ranking_ordenado:\n",
        "        print(f\"{medalhas['pais']}: {medalhas['total']} medalhas\")\n",
        "\n",
        "      break\n",
        "## input medalhas\n",
        "    ouro = int(input(\"Digite o número de medalhas de ouro: \"))\n",
        "    prata = int(input(\"Digite o número de medalhas de prata: \"))\n",
        "    bronze = int(input(\"Digite o número de medalhas de bronze: \"))\n",
        "\n",
        "## exibir soma de medalhas\n",
        "    total = ouro + prata + bronze\n",
        "    total_pais = {\"pais\": pais,\"total\": total}\n",
        "    ranking.append(total_pais)\n",
        "\n",
        "\n",
        "## executar\n",
        "contagem_medalhas()"
      ]
    }
  ]
}